{
 "cells": [
  {
   "cell_type": "code",
   "execution_count": null,
   "metadata": {},
   "outputs": [],
   "source": [
    "t11=0.4;t12=0.6;t13=0.9;o11=0.5;o12=0.3;o13=0.4"
   ]
  },
  {
   "cell_type": "code",
   "execution_count": 1,
   "metadata": {},
   "outputs": [],
   "source": [
    "import torch\n",
    "import torchvision.models as model\n",
    "import torch.nn as nn\n",
    "import matplotlib.pyplot as plt\n",
    "from torch.utils.data import Dataset, DataLoader, Subset\n",
    "from torchvision import transforms, datasets\n",
    "import os\n",
    "import glob\n",
    "from tqdm import tqdm\n",
    "from PIL import Image\n",
    "import random\n",
    "from sklearn.model_selection import train_test_split\n",
    "import numpy as np\n",
    "import timm.models as tmodels"
   ]
  },
  {
   "cell_type": "code",
   "execution_count": 2,
   "metadata": {},
   "outputs": [],
   "source": [
    "random_seed = 1120\n",
    "torch.manual_seed(random_seed)\n",
    "torch.cuda.manual_seed(random_seed)\n",
    "torch.cuda.manual_seed_all(random_seed)  # if use multi-GPU\n",
    "torch.backends.cudnn.deterministic = True\n",
    "torch.backends.cudnn.benchmark = False\n",
    "np.random.seed(random_seed)\n",
    "random.seed(random_seed)"
   ]
  },
  {
   "cell_type": "code",
   "execution_count": 3,
   "metadata": {},
   "outputs": [],
   "source": [
    "import matplotlib.image as img\n",
    "import matplotlib.pyplot as plt\n",
    "\n",
    "def imshow(x):\n",
    "    x = img.imread(x)\n",
    "    plt.imshow(x)\n",
    "    plt.show()"
   ]
  },
  {
   "cell_type": "code",
   "execution_count": 36,
   "metadata": {
    "scrolled": true
   },
   "outputs": [],
   "source": [
    "os.environ['CUDA_VISIBLE_DEVICES'] = '0'\n",
    "\n",
    "# path1 = '/media/data2/rjsdn/zoom/data/dataset/train'\n",
    "# path1 ='/media/data1/dataset/PGGAN/256x256/train'\n",
    "# train_path='/media/data1/dataset/DFDC/train/'\n",
    "a='/media/data2/rjsdn/zoom/data/dataset/test3/'\n",
    "b='/media/data1/dataset/PGGAN/256x256/test/'\n",
    "c='/media/data1/dataset/DFDC/test/'\n",
    "train_path = '/media/data1/dataset/PGGAN/256xps 256/train/'\n",
    "val_path = '/media/data2/rjsdn/zoom/data/eunju/test/'\n",
    "test_path = '/media/data2/rjsdn/zoom/dataset/test1/'\n",
    "# path2= '/media/data1/dataset/PGGAN/256x256/test'\n",
    "#test = [ y for x in os.walk(path) for y in glob.glob(os.path.join(x[0], '*.jpg')) ]\n",
    "\n",
    "SAVE_PATH='weights/R18P_D//'\n",
    "os.makedirs(SAVE_PATH,exist_ok=True)\n",
    "\n",
    "w,h=178,218\n",
    "\n",
    "transform = transforms.Compose([\n",
    "    transforms.Resize((w,h)),\n",
    "    transforms.ToTensor()\n",
    "])\n",
    "\n",
    "train_img = datasets.ImageFolder(train_path,transform=transform)\n",
    "val_img = datasets.ImageFolder(val_path,transform=transform)\n",
    "test_img = datasets.ImageFolder(test_path,transform=transform)\n",
    "\n",
    "\n",
    "b_size = 64\n",
    "\n",
    "train_loader = DataLoader(train_img,batch_size=b_size,shuffle=True,num_workers=8)\n",
    "val_loader = DataLoader(val_img,batch_size=b_size,shuffle=True,num_workers=8)\n",
    "test_loader = DataLoader(test_img,batch_size=16,shuffle=False,num_workers=8)\n",
    "\n",
    "\n",
    "\n",
    "\n",
    "\n"
   ]
  },
  {
   "cell_type": "code",
   "execution_count": 8,
   "metadata": {},
   "outputs": [
    {
     "data": {
      "text/plain": [
       "4530"
      ]
     },
     "execution_count": 8,
     "metadata": {},
     "output_type": "execute_result"
    }
   ],
   "source": [
    "len(test_img)"
   ]
  },
  {
   "cell_type": "code",
   "execution_count": 5,
   "metadata": {},
   "outputs": [],
   "source": [
    "Model=model.resnet18(pretrained=False)\n",
    "# Model=tmodels.xception(pretrained=False)\n",
    "num_ftrs = Model.fc.in_features\n",
    "Model.fc = nn.Linear(num_ftrs,2)\n",
    "    \n",
    "device = torch.device(\"cuda:0\")\n",
    "Model=Model.to(device)\n",
    "\n",
    "opt = torch.optim.Adam(Model.parameters(), lr=0.001)\n",
    "criterion = nn.CrossEntropyLoss()"
   ]
  },
  {
   "cell_type": "code",
   "execution_count": 6,
   "metadata": {},
   "outputs": [],
   "source": [
    "EPOCH=30"
   ]
  },
  {
   "cell_type": "code",
   "execution_count": 7,
   "metadata": {
    "scrolled": true
   },
   "outputs": [
    {
     "name": "stderr",
     "output_type": "stream",
     "text": [
      "100%|██████████| 756/756 [06:17<00:00,  2.00it/s]\n",
      "100%|██████████| 183/183 [00:27<00:00,  6.67it/s]\n"
     ]
    },
    {
     "name": "stdout",
     "output_type": "stream",
     "text": [
      "[1/30] TL= 0.50997029 TA=73.350 || VL=0.68284809 VA=67.98\n",
      "best weights changed!!!\n"
     ]
    },
    {
     "name": "stderr",
     "output_type": "stream",
     "text": [
      "100%|██████████| 756/756 [06:14<00:00,  2.02it/s]\n",
      "100%|██████████| 183/183 [00:24<00:00,  7.40it/s]\n"
     ]
    },
    {
     "name": "stdout",
     "output_type": "stream",
     "text": [
      "[2/30] TL= 0.19373093 TA=91.997 || VL=0.25086895 VA=90.41\n",
      "best weights changed!!!\n"
     ]
    },
    {
     "name": "stderr",
     "output_type": "stream",
     "text": [
      "100%|██████████| 756/756 [05:29<00:00,  2.30it/s]\n",
      "100%|██████████| 183/183 [00:25<00:00,  7.09it/s]\n"
     ]
    },
    {
     "name": "stdout",
     "output_type": "stream",
     "text": [
      "[3/30] TL= 0.07877470 TA=97.028 || VL=0.07805804 VA=97.07\n",
      "best weights changed!!!\n"
     ]
    },
    {
     "name": "stderr",
     "output_type": "stream",
     "text": [
      "100%|██████████| 756/756 [05:41<00:00,  2.22it/s]\n",
      "100%|██████████| 183/183 [00:25<00:00,  7.09it/s]\n"
     ]
    },
    {
     "name": "stdout",
     "output_type": "stream",
     "text": [
      "[4/30] TL= 0.04997485 TA=98.121 || VL=0.33126294 VA=87.98\n"
     ]
    },
    {
     "name": "stderr",
     "output_type": "stream",
     "text": [
      "100%|██████████| 756/756 [05:32<00:00,  2.27it/s]\n",
      "100%|██████████| 183/183 [00:23<00:00,  7.86it/s]\n"
     ]
    },
    {
     "name": "stdout",
     "output_type": "stream",
     "text": [
      "[5/30] TL= 0.03737522 TA=98.646 || VL=0.08075172 VA=97.17\n"
     ]
    },
    {
     "name": "stderr",
     "output_type": "stream",
     "text": [
      "100%|██████████| 756/756 [05:44<00:00,  2.19it/s]\n",
      "100%|██████████| 183/183 [00:25<00:00,  7.27it/s]\n"
     ]
    },
    {
     "name": "stdout",
     "output_type": "stream",
     "text": [
      "[6/30] TL= 0.02975035 TA=98.896 || VL=0.06749106 VA=97.75\n",
      "best weights changed!!!\n"
     ]
    },
    {
     "name": "stderr",
     "output_type": "stream",
     "text": [
      "100%|██████████| 756/756 [05:42<00:00,  2.21it/s]\n",
      "100%|██████████| 183/183 [00:25<00:00,  7.14it/s]\n"
     ]
    },
    {
     "name": "stdout",
     "output_type": "stream",
     "text": [
      "[7/30] TL= 0.02688678 TA=99.045 || VL=0.21509258 VA=93.28\n"
     ]
    },
    {
     "name": "stderr",
     "output_type": "stream",
     "text": [
      "100%|██████████| 756/756 [05:31<00:00,  2.28it/s]\n",
      "100%|██████████| 183/183 [00:25<00:00,  7.12it/s]\n"
     ]
    },
    {
     "name": "stdout",
     "output_type": "stream",
     "text": [
      "[8/30] TL= 0.02293644 TA=99.134 || VL=0.12903812 VA=95.72\n"
     ]
    },
    {
     "name": "stderr",
     "output_type": "stream",
     "text": [
      "100%|██████████| 756/756 [05:43<00:00,  2.20it/s]\n",
      "100%|██████████| 183/183 [00:25<00:00,  7.22it/s]\n"
     ]
    },
    {
     "name": "stdout",
     "output_type": "stream",
     "text": [
      "[9/30] TL= 0.01917794 TA=99.312 || VL=0.04411874 VA=98.42\n",
      "best weights changed!!!\n"
     ]
    },
    {
     "name": "stderr",
     "output_type": "stream",
     "text": [
      "100%|██████████| 756/756 [05:37<00:00,  2.24it/s]\n",
      "100%|██████████| 183/183 [00:27<00:00,  6.76it/s]\n"
     ]
    },
    {
     "name": "stdout",
     "output_type": "stream",
     "text": [
      "[10/30] TL= 0.01807092 TA=99.328 || VL=0.03034152 VA=98.86\n",
      "best weights changed!!!\n"
     ]
    },
    {
     "name": "stderr",
     "output_type": "stream",
     "text": [
      "100%|██████████| 756/756 [05:38<00:00,  2.23it/s]\n",
      "100%|██████████| 183/183 [00:25<00:00,  7.09it/s]\n"
     ]
    },
    {
     "name": "stdout",
     "output_type": "stream",
     "text": [
      "[11/30] TL= 0.01548729 TA=99.458 || VL=0.06628507 VA=97.87\n"
     ]
    },
    {
     "name": "stderr",
     "output_type": "stream",
     "text": [
      "100%|██████████| 756/756 [05:46<00:00,  2.18it/s]\n",
      "100%|██████████| 183/183 [00:25<00:00,  7.06it/s]\n"
     ]
    },
    {
     "name": "stdout",
     "output_type": "stream",
     "text": [
      "[12/30] TL= 0.01377951 TA=99.473 || VL=0.05368084 VA=98.13\n"
     ]
    },
    {
     "name": "stderr",
     "output_type": "stream",
     "text": [
      "100%|██████████| 756/756 [05:20<00:00,  2.36it/s]\n",
      "100%|██████████| 183/183 [00:22<00:00,  8.26it/s]\n"
     ]
    },
    {
     "name": "stdout",
     "output_type": "stream",
     "text": [
      "[13/30] TL= 0.01403679 TA=99.525 || VL=0.21562569 VA=93.10\n"
     ]
    },
    {
     "name": "stderr",
     "output_type": "stream",
     "text": [
      "100%|██████████| 756/756 [05:36<00:00,  2.25it/s]\n",
      "100%|██████████| 183/183 [00:26<00:00,  7.03it/s]\n"
     ]
    },
    {
     "name": "stdout",
     "output_type": "stream",
     "text": [
      "[14/30] TL= 0.01399838 TA=99.508 || VL=0.03053245 VA=98.99\n"
     ]
    },
    {
     "name": "stderr",
     "output_type": "stream",
     "text": [
      "100%|██████████| 756/756 [05:37<00:00,  2.24it/s]\n",
      "100%|██████████| 183/183 [00:26<00:00,  7.02it/s]\n"
     ]
    },
    {
     "name": "stdout",
     "output_type": "stream",
     "text": [
      "[15/30] TL= 0.01210067 TA=99.592 || VL=0.05644891 VA=98.13\n"
     ]
    },
    {
     "name": "stderr",
     "output_type": "stream",
     "text": [
      "100%|██████████| 756/756 [05:38<00:00,  2.24it/s]\n",
      "100%|██████████| 183/183 [00:26<00:00,  6.92it/s]\n"
     ]
    },
    {
     "name": "stdout",
     "output_type": "stream",
     "text": [
      "[16/30] TL= 0.00957404 TA=99.661 || VL=0.02945148 VA=99.00\n",
      "best weights changed!!!\n"
     ]
    },
    {
     "name": "stderr",
     "output_type": "stream",
     "text": [
      "100%|██████████| 756/756 [05:38<00:00,  2.23it/s]\n",
      "100%|██████████| 183/183 [00:25<00:00,  7.17it/s]\n"
     ]
    },
    {
     "name": "stdout",
     "output_type": "stream",
     "text": [
      "[17/30] TL= 0.01079801 TA=99.642 || VL=0.04991042 VA=98.37\n"
     ]
    },
    {
     "name": "stderr",
     "output_type": "stream",
     "text": [
      "100%|██████████| 756/756 [05:37<00:00,  2.24it/s]\n",
      "100%|██████████| 183/183 [00:26<00:00,  6.97it/s]\n"
     ]
    },
    {
     "name": "stdout",
     "output_type": "stream",
     "text": [
      "[18/30] TL= 0.00975342 TA=99.673 || VL=0.08529636 VA=97.75\n"
     ]
    },
    {
     "name": "stderr",
     "output_type": "stream",
     "text": [
      "100%|██████████| 756/756 [05:37<00:00,  2.24it/s]\n",
      "100%|██████████| 183/183 [00:26<00:00,  6.93it/s]\n"
     ]
    },
    {
     "name": "stdout",
     "output_type": "stream",
     "text": [
      "[19/30] TL= 0.01032958 TA=99.640 || VL=0.10902167 VA=96.89\n"
     ]
    },
    {
     "name": "stderr",
     "output_type": "stream",
     "text": [
      "100%|██████████| 756/756 [05:31<00:00,  2.28it/s]\n",
      "100%|██████████| 183/183 [00:29<00:00,  6.25it/s]\n"
     ]
    },
    {
     "name": "stdout",
     "output_type": "stream",
     "text": [
      "[20/30] TL= 0.00787525 TA=99.725 || VL=0.03716877 VA=99.00\n"
     ]
    },
    {
     "name": "stderr",
     "output_type": "stream",
     "text": [
      "100%|██████████| 756/756 [05:34<00:00,  2.26it/s]\n",
      "100%|██████████| 183/183 [00:22<00:00,  8.02it/s]\n"
     ]
    },
    {
     "name": "stdout",
     "output_type": "stream",
     "text": [
      "[21/30] TL= 0.00872252 TA=99.676 || VL=0.27737705 VA=92.58\n"
     ]
    },
    {
     "name": "stderr",
     "output_type": "stream",
     "text": [
      "100%|██████████| 756/756 [05:43<00:00,  2.20it/s]\n",
      "100%|██████████| 183/183 [00:23<00:00,  7.90it/s]\n"
     ]
    },
    {
     "name": "stdout",
     "output_type": "stream",
     "text": [
      "[22/30] TL= 0.00700124 TA=99.789 || VL=0.09058446 VA=97.21\n"
     ]
    },
    {
     "name": "stderr",
     "output_type": "stream",
     "text": [
      "100%|██████████| 756/756 [05:41<00:00,  2.21it/s]\n",
      "100%|██████████| 183/183 [00:25<00:00,  7.30it/s]\n"
     ]
    },
    {
     "name": "stdout",
     "output_type": "stream",
     "text": [
      "[23/30] TL= 0.00686566 TA=99.777 || VL=0.03112078 VA=98.97\n"
     ]
    },
    {
     "name": "stderr",
     "output_type": "stream",
     "text": [
      "100%|██████████| 756/756 [05:40<00:00,  2.22it/s]\n",
      "100%|██████████| 183/183 [00:26<00:00,  6.98it/s]\n"
     ]
    },
    {
     "name": "stdout",
     "output_type": "stream",
     "text": [
      "[24/30] TL= 0.00741362 TA=99.729 || VL=0.10892639 VA=97.29\n"
     ]
    },
    {
     "name": "stderr",
     "output_type": "stream",
     "text": [
      "100%|██████████| 756/756 [05:39<00:00,  2.23it/s]\n",
      "100%|██████████| 183/183 [00:26<00:00,  7.03it/s]\n"
     ]
    },
    {
     "name": "stdout",
     "output_type": "stream",
     "text": [
      "[25/30] TL= 0.00644260 TA=99.775 || VL=0.03766508 VA=99.02\n"
     ]
    },
    {
     "name": "stderr",
     "output_type": "stream",
     "text": [
      "100%|██████████| 756/756 [05:39<00:00,  2.23it/s]\n",
      "100%|██████████| 183/183 [00:26<00:00,  7.04it/s]\n"
     ]
    },
    {
     "name": "stdout",
     "output_type": "stream",
     "text": [
      "[26/30] TL= 0.00737460 TA=99.749 || VL=0.02405202 VA=99.19\n",
      "best weights changed!!!\n"
     ]
    },
    {
     "name": "stderr",
     "output_type": "stream",
     "text": [
      "100%|██████████| 756/756 [05:34<00:00,  2.26it/s]\n",
      "100%|██████████| 183/183 [00:30<00:00,  6.08it/s]\n"
     ]
    },
    {
     "name": "stdout",
     "output_type": "stream",
     "text": [
      "[27/30] TL= 0.00444790 TA=99.859 || VL=0.03532671 VA=99.08\n"
     ]
    },
    {
     "name": "stderr",
     "output_type": "stream",
     "text": [
      "100%|██████████| 756/756 [05:36<00:00,  2.24it/s]\n",
      "100%|██████████| 183/183 [00:23<00:00,  7.93it/s]\n"
     ]
    },
    {
     "name": "stdout",
     "output_type": "stream",
     "text": [
      "[28/30] TL= 0.00743105 TA=99.731 || VL=0.02567415 VA=99.28\n"
     ]
    },
    {
     "name": "stderr",
     "output_type": "stream",
     "text": [
      "100%|██████████| 756/756 [05:47<00:00,  2.17it/s]\n",
      "100%|██████████| 183/183 [00:25<00:00,  7.25it/s]\n"
     ]
    },
    {
     "name": "stdout",
     "output_type": "stream",
     "text": [
      "[29/30] TL= 0.00481292 TA=99.851 || VL=0.02435313 VA=99.21\n"
     ]
    },
    {
     "name": "stderr",
     "output_type": "stream",
     "text": [
      "100%|██████████| 756/756 [05:46<00:00,  2.18it/s]\n",
      "100%|██████████| 183/183 [00:24<00:00,  7.48it/s]"
     ]
    },
    {
     "name": "stdout",
     "output_type": "stream",
     "text": [
      "[30/30] TL= 0.00566722 TA=99.806 || VL=0.02918706 VA=99.16\n",
      "\n",
      "\n",
      "Train Done\n"
     ]
    },
    {
     "name": "stderr",
     "output_type": "stream",
     "text": [
      "\n"
     ]
    }
   ],
   "source": [
    "history={\n",
    "    'train_acc':[],\n",
    "    'val_acc':[],\n",
    "    'train_loss':[],\n",
    "    'val_loss':[],\n",
    "}\n",
    "\n",
    "best_loss = np.inf\n",
    "best_acc = 0\n",
    "\n",
    "for epo in range(EPOCH):\n",
    "    train_loss=0\n",
    "    train_acc=0\n",
    "    Model.train()\n",
    "    count=0\n",
    "    for x, y in tqdm(train_loader):\n",
    "        opt.zero_grad()\n",
    "        x=x.to(device)\n",
    "        y=y.to(device)\n",
    "        output = Model(x)\n",
    "        loss = criterion(output,y)\n",
    "        _, index = torch.max(output,1)\n",
    "        train_acc += (index==y).sum().float().item() / len(output)\n",
    "        train_loss += float(loss.item())\n",
    "        loss.backward(retain_graph=True)\n",
    "        opt.step()\n",
    "        count+=1\n",
    "    \n",
    "    train_loss /= count\n",
    "    train_acc /= count\n",
    "\n",
    "    history['train_acc'].append(train_acc)\n",
    "    history['train_loss'].append(train_loss)\n",
    "    \n",
    "    val_loss=0\n",
    "    val_acc=0    \n",
    "    Model.eval()\n",
    "    with torch.no_grad():\n",
    "        count=0\n",
    "        for x,y in tqdm(val_loader):\n",
    "            x=x.cuda()\n",
    "            y=y.cuda()\n",
    "            output=Model(x)\n",
    "            loss = criterion(output,y)\n",
    "            _, index = torch.max(output,1)\n",
    "            val_acc += (index==y).sum().float().item() / len(output)\n",
    "            val_loss += float(loss.item())\n",
    "            count+=1\n",
    "        val_acc/=count\n",
    "        val_loss/=count\n",
    "    \n",
    "    print(f'[{epo+1}/{EPOCH}] TL={train_loss: .8f} TA={train_acc*100:.3f} || VL={val_loss:.8f} VA={val_acc*100:.2f}')\n",
    "    \n",
    "    \n",
    "    if best_loss > val_loss:\n",
    "        print('best weights changed!!!')\n",
    "        best_loss=val_loss\n",
    "        best_acc=val_acc\n",
    "        torch.save(Model.state_dict(),SAVE_PATH+'/best.pth')\n",
    "        \n",
    "    \n",
    "    history['val_acc'].append(val_acc)\n",
    "    history['val_loss'].append(val_loss)\n",
    "    \n",
    "    \n",
    "print(\"\\n\\nTrain Done\")"
   ]
  },
  {
   "cell_type": "code",
   "execution_count": 37,
   "metadata": {
    "scrolled": true
   },
   "outputs": [
    {
     "data": {
      "text/plain": [
       "ResNet(\n",
       "  (conv1): Conv2d(3, 64, kernel_size=(7, 7), stride=(2, 2), padding=(3, 3), bias=False)\n",
       "  (bn1): BatchNorm2d(64, eps=1e-05, momentum=0.1, affine=True, track_running_stats=True)\n",
       "  (act1): ReLU(inplace=True)\n",
       "  (maxpool): MaxPool2d(kernel_size=3, stride=2, padding=1, dilation=1, ceil_mode=False)\n",
       "  (layer1): Sequential(\n",
       "    (0): BasicBlock(\n",
       "      (conv1): Conv2d(64, 64, kernel_size=(3, 3), stride=(1, 1), padding=(1, 1), bias=False)\n",
       "      (bn1): BatchNorm2d(64, eps=1e-05, momentum=0.1, affine=True, track_running_stats=True)\n",
       "      (act1): ReLU(inplace=True)\n",
       "      (conv2): Conv2d(64, 64, kernel_size=(3, 3), stride=(1, 1), padding=(1, 1), bias=False)\n",
       "      (bn2): BatchNorm2d(64, eps=1e-05, momentum=0.1, affine=True, track_running_stats=True)\n",
       "      (act2): ReLU(inplace=True)\n",
       "    )\n",
       "    (1): BasicBlock(\n",
       "      (conv1): Conv2d(64, 64, kernel_size=(3, 3), stride=(1, 1), padding=(1, 1), bias=False)\n",
       "      (bn1): BatchNorm2d(64, eps=1e-05, momentum=0.1, affine=True, track_running_stats=True)\n",
       "      (act1): ReLU(inplace=True)\n",
       "      (conv2): Conv2d(64, 64, kernel_size=(3, 3), stride=(1, 1), padding=(1, 1), bias=False)\n",
       "      (bn2): BatchNorm2d(64, eps=1e-05, momentum=0.1, affine=True, track_running_stats=True)\n",
       "      (act2): ReLU(inplace=True)\n",
       "    )\n",
       "  )\n",
       "  (layer2): Sequential(\n",
       "    (0): BasicBlock(\n",
       "      (conv1): Conv2d(64, 128, kernel_size=(3, 3), stride=(2, 2), padding=(1, 1), bias=False)\n",
       "      (bn1): BatchNorm2d(128, eps=1e-05, momentum=0.1, affine=True, track_running_stats=True)\n",
       "      (act1): ReLU(inplace=True)\n",
       "      (conv2): Conv2d(128, 128, kernel_size=(3, 3), stride=(1, 1), padding=(1, 1), bias=False)\n",
       "      (bn2): BatchNorm2d(128, eps=1e-05, momentum=0.1, affine=True, track_running_stats=True)\n",
       "      (act2): ReLU(inplace=True)\n",
       "      (downsample): Sequential(\n",
       "        (0): Conv2d(64, 128, kernel_size=(1, 1), stride=(2, 2), bias=False)\n",
       "        (1): BatchNorm2d(128, eps=1e-05, momentum=0.1, affine=True, track_running_stats=True)\n",
       "      )\n",
       "    )\n",
       "    (1): BasicBlock(\n",
       "      (conv1): Conv2d(128, 128, kernel_size=(3, 3), stride=(1, 1), padding=(1, 1), bias=False)\n",
       "      (bn1): BatchNorm2d(128, eps=1e-05, momentum=0.1, affine=True, track_running_stats=True)\n",
       "      (act1): ReLU(inplace=True)\n",
       "      (conv2): Conv2d(128, 128, kernel_size=(3, 3), stride=(1, 1), padding=(1, 1), bias=False)\n",
       "      (bn2): BatchNorm2d(128, eps=1e-05, momentum=0.1, affine=True, track_running_stats=True)\n",
       "      (act2): ReLU(inplace=True)\n",
       "    )\n",
       "  )\n",
       "  (layer3): Sequential(\n",
       "    (0): BasicBlock(\n",
       "      (conv1): Conv2d(128, 256, kernel_size=(3, 3), stride=(2, 2), padding=(1, 1), bias=False)\n",
       "      (bn1): BatchNorm2d(256, eps=1e-05, momentum=0.1, affine=True, track_running_stats=True)\n",
       "      (act1): ReLU(inplace=True)\n",
       "      (conv2): Conv2d(256, 256, kernel_size=(3, 3), stride=(1, 1), padding=(1, 1), bias=False)\n",
       "      (bn2): BatchNorm2d(256, eps=1e-05, momentum=0.1, affine=True, track_running_stats=True)\n",
       "      (act2): ReLU(inplace=True)\n",
       "      (downsample): Sequential(\n",
       "        (0): Conv2d(128, 256, kernel_size=(1, 1), stride=(2, 2), bias=False)\n",
       "        (1): BatchNorm2d(256, eps=1e-05, momentum=0.1, affine=True, track_running_stats=True)\n",
       "      )\n",
       "    )\n",
       "    (1): BasicBlock(\n",
       "      (conv1): Conv2d(256, 256, kernel_size=(3, 3), stride=(1, 1), padding=(1, 1), bias=False)\n",
       "      (bn1): BatchNorm2d(256, eps=1e-05, momentum=0.1, affine=True, track_running_stats=True)\n",
       "      (act1): ReLU(inplace=True)\n",
       "      (conv2): Conv2d(256, 256, kernel_size=(3, 3), stride=(1, 1), padding=(1, 1), bias=False)\n",
       "      (bn2): BatchNorm2d(256, eps=1e-05, momentum=0.1, affine=True, track_running_stats=True)\n",
       "      (act2): ReLU(inplace=True)\n",
       "    )\n",
       "  )\n",
       "  (layer4): Sequential(\n",
       "    (0): BasicBlock(\n",
       "      (conv1): Conv2d(256, 512, kernel_size=(3, 3), stride=(2, 2), padding=(1, 1), bias=False)\n",
       "      (bn1): BatchNorm2d(512, eps=1e-05, momentum=0.1, affine=True, track_running_stats=True)\n",
       "      (act1): ReLU(inplace=True)\n",
       "      (conv2): Conv2d(512, 512, kernel_size=(3, 3), stride=(1, 1), padding=(1, 1), bias=False)\n",
       "      (bn2): BatchNorm2d(512, eps=1e-05, momentum=0.1, affine=True, track_running_stats=True)\n",
       "      (act2): ReLU(inplace=True)\n",
       "      (downsample): Sequential(\n",
       "        (0): Conv2d(256, 512, kernel_size=(1, 1), stride=(2, 2), bias=False)\n",
       "        (1): BatchNorm2d(512, eps=1e-05, momentum=0.1, affine=True, track_running_stats=True)\n",
       "      )\n",
       "    )\n",
       "    (1): BasicBlock(\n",
       "      (conv1): Conv2d(512, 512, kernel_size=(3, 3), stride=(1, 1), padding=(1, 1), bias=False)\n",
       "      (bn1): BatchNorm2d(512, eps=1e-05, momentum=0.1, affine=True, track_running_stats=True)\n",
       "      (act1): ReLU(inplace=True)\n",
       "      (conv2): Conv2d(512, 512, kernel_size=(3, 3), stride=(1, 1), padding=(1, 1), bias=False)\n",
       "      (bn2): BatchNorm2d(512, eps=1e-05, momentum=0.1, affine=True, track_running_stats=True)\n",
       "      (act2): ReLU(inplace=True)\n",
       "    )\n",
       "  )\n",
       "  (global_pool): SelectAdaptivePool2d (pool_type=avg, flatten=Flatten(start_dim=1, end_dim=-1))\n",
       "  (fc): Linear(in_features=512, out_features=2, bias=True)\n",
       ")"
      ]
     },
     "execution_count": 37,
     "metadata": {},
     "output_type": "execute_result"
    }
   ],
   "source": [
    "# testmodel=tmodels.xception(pretrained=False)\n",
    "testmodel=tmodels.resnet18(pretrained=False)\n",
    "num_ftrs = testmodel.fc.in_features\n",
    "testmodel.fc = nn.Linear(num_ftrs,2)\n",
    "testmodel.load_state_dict(torch.load(SAVE_PATH+'/best.pth'))\n",
    "testmodel.cuda()\n",
    "# print(f'best acc={best_acc*100:.2f}')"
   ]
  },
  {
   "cell_type": "code",
   "execution_count": 38,
   "metadata": {},
   "outputs": [
    {
     "name": "stderr",
     "output_type": "stream",
     "text": [
      "100%|██████████| 250/250 [00:04<00:00, 51.77it/s]"
     ]
    },
    {
     "name": "stdout",
     "output_type": "stream",
     "text": [
      "ACC : 50.60000\n"
     ]
    },
    {
     "name": "stderr",
     "output_type": "stream",
     "text": [
      "\n"
     ]
    }
   ],
   "source": [
    "from sklearn.metrics import classification_report\n",
    "\n",
    "test_loss=0\n",
    "acc = 0\n",
    "count=0\n",
    "p,r=torch.tensor([0]),torch.tensor([0])\n",
    "testmodel.eval()\n",
    "with torch.no_grad():\n",
    "    for x,y in tqdm(test_loader):\n",
    "        count+=1\n",
    "        x=x.cuda()\n",
    "        y=y.cuda()\n",
    "        output = testmodel(x)\n",
    "        pred=output.argmax(dim=1)\n",
    "        pred = pred ^ 1\n",
    "        p=torch.cat([p,pred.to(\"cpu\")])\n",
    "        r=torch.cat([r,y.to(\"cpu\")])\n",
    "        acc += pred.eq(y.view_as(pred)).sum().item()\n",
    "    acc /= len(test_img)\n",
    "    print(\"ACC : %.5f\"%(acc*100))"
   ]
  },
  {
   "cell_type": "code",
   "execution_count": null,
   "metadata": {},
   "outputs": [],
   "source": [
    "nn."
   ]
  },
  {
   "cell_type": "code",
   "execution_count": null,
   "metadata": {},
   "outputs": [],
   "source": [
    "#### import pandas as pd\n",
    "\n",
    "pd.DataFrame(history).to_csv(SAVE_PATH+'/res.csv', index=False)"
   ]
  },
  {
   "cell_type": "code",
   "execution_count": 39,
   "metadata": {},
   "outputs": [
    {
     "name": "stdout",
     "output_type": "stream",
     "text": [
      "[[1875  126]\n",
      " [1850  150]]\n",
      "0.13181019332161686\n",
      "0.075\n",
      "0.5434782608695652\n"
     ]
    }
   ],
   "source": [
    "CM = confusion_matrix(r,p)\n",
    "print(CM)\n",
    "print(f1_score(r,p))\n",
    "print(recall_score(r,p))\n",
    "print(precision_score(r,p))"
   ]
  },
  {
   "cell_type": "markdown",
   "metadata": {},
   "source": [
    "f1,recall,precision\n",
    "\n",
    "X DFDC\n",
    "68.375\n",
    "0.6806362029790457\n",
    "0.674\n",
    "0.6874043855175931\n",
    "\n",
    "X PGGAN\n",
    "54.125\n",
    "0.27384250098931534\n",
    "0.173\n",
    "0.6565464895635673\n",
    "\n",
    "R18 DFDC\n",
    "69.375\n",
    "0.6257256339749466\n",
    "0.512\n",
    "0.8043990573448547\n",
    "\n",
    "R18 PGGAN\n",
    "50.6\n",
    "0.13181019332161686\n",
    "0.075\n",
    "0.5434782608695652"
   ]
  }
 ],
 "metadata": {
  "kernelspec": {
   "display_name": "Python 3 (ipykernel)",
   "language": "python",
   "name": "python3"
  },
  "language_info": {
   "codemirror_mode": {
    "name": "ipython",
    "version": 3
   },
   "file_extension": ".py",
   "mimetype": "text/x-python",
   "name": "python",
   "nbconvert_exporter": "python",
   "pygments_lexer": "ipython3",
   "version": "3.7.11"
  }
 },
 "nbformat": 4,
 "nbformat_minor": 4
}
