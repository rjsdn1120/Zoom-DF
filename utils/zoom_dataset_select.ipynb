{
 "cells": [
  {
   "cell_type": "code",
   "execution_count": 2,
   "id": "6745cdc4",
   "metadata": {},
   "outputs": [],
   "source": [
    "import os\n",
    "import random\n",
    "import shutil\n",
    "import numpy as np"
   ]
  },
  {
   "cell_type": "code",
   "execution_count": 3,
   "id": "df779eea",
   "metadata": {},
   "outputs": [],
   "source": [
    "k=[5,10,15]\n",
    "f=[10,30,50,100]"
   ]
  },
  {
   "cell_type": "code",
   "execution_count": 4,
   "id": "fafd48e8",
   "metadata": {},
   "outputs": [],
   "source": [
    "random_seed=1120\n",
    "random.seed(random_seed)"
   ]
  },
  {
   "cell_type": "code",
   "execution_count": 5,
   "id": "45852bae",
   "metadata": {},
   "outputs": [],
   "source": [
    "for i in range(1,2):\n",
    "    for j in k:\n",
    "        path = f'/media/data2/rjsdn/zoom/dataset/train7/'\n",
    "        save_path = f'/media/data2/rjsdn/zoom/dataset/train7_{j}/'        \n",
    "        for x in os.walk(path):\n",
    "            t = len(x[2])\n",
    "#             print(x)\n",
    "            x_ =sorted(x[2])\n",
    "            if t>0:\n",
    "                sam = random.randint(0,t-(j))\n",
    "        #         print(x[0])\n",
    "                tmp = x[0].split('/')\n",
    "                tmp = '/'.join(tmp[:-1])\n",
    "        #         print(tmp)\n",
    "\n",
    "\n",
    "                for xx in range(sam,sam+j):\n",
    "                    f_path = os.path.join(x[0],x_[xx])\n",
    "                    sp = f_path.split('/')\n",
    "                    last_name = '/'.join(f_path.split('/')[-3:])\n",
    "                    save =os.path.join(save_path,last_name)\n",
    "                    os.makedirs('/'.join(save.split('/')[:-1]),exist_ok=True)\n",
    "        #             save = os.path.join(save,sp[-1])\n",
    "        #             print(last_name)\n",
    "        #             print(save)\n",
    "                    shutil.copyfile(f_path,save)\n",
    "        #         break\n",
    "\n"
   ]
  },
  {
   "cell_type": "code",
   "execution_count": null,
   "id": "db0f5eca",
   "metadata": {},
   "outputs": [],
   "source": []
  },
  {
   "cell_type": "code",
   "execution_count": null,
   "id": "87cd4dfa",
   "metadata": {},
   "outputs": [],
   "source": []
  }
 ],
 "metadata": {
  "kernelspec": {
   "display_name": "Python 3 (ipykernel)",
   "language": "python",
   "name": "python3"
  },
  "language_info": {
   "codemirror_mode": {
    "name": "ipython",
    "version": 3
   },
   "file_extension": ".py",
   "mimetype": "text/x-python",
   "name": "python",
   "nbconvert_exporter": "python",
   "pygments_lexer": "ipython3",
   "version": "3.7.11"
  }
 },
 "nbformat": 4,
 "nbformat_minor": 5
}
