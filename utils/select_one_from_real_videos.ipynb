{
 "cells": [
  {
   "cell_type": "code",
   "execution_count": 1,
   "id": "dc427c51",
   "metadata": {},
   "outputs": [],
   "source": [
    "import os\n",
    "import shutil"
   ]
  },
  {
   "cell_type": "code",
   "execution_count": 2,
   "id": "b65a7e6c",
   "metadata": {},
   "outputs": [],
   "source": [
    "path='/media/data2/rjsdn/zoom/dataset/test6/real/'"
   ]
  },
  {
   "cell_type": "code",
   "execution_count": 5,
   "id": "314fbf77",
   "metadata": {},
   "outputs": [],
   "source": [
    "cnt=1\n",
    "for x in sorted(os.walk(path)):\n",
    "    if len(x[2]):\n",
    "        imgs = sorted(x[2])\n",
    "        \n",
    "        o = os.path.join(x[0],imgs[0])\n",
    "        \n",
    "        os.makedirs('./real_one',exist_ok=True)\n",
    "        shutil.copy(o,f'./real_one/{str(cnt).zfill(5)}.png')\n",
    "        cnt+=1\n",
    "        "
   ]
  },
  {
   "cell_type": "code",
   "execution_count": null,
   "id": "5e0eb31f",
   "metadata": {},
   "outputs": [],
   "source": []
  }
 ],
 "metadata": {
  "kernelspec": {
   "display_name": "Python 3 (ipykernel)",
   "language": "python",
   "name": "python3"
  },
  "language_info": {
   "codemirror_mode": {
    "name": "ipython",
    "version": 3
   },
   "file_extension": ".py",
   "mimetype": "text/x-python",
   "name": "python",
   "nbconvert_exporter": "python",
   "pygments_lexer": "ipython3",
   "version": "3.7.11"
  }
 },
 "nbformat": 4,
 "nbformat_minor": 5
}
