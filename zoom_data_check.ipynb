{
 "cells": [
  {
   "cell_type": "code",
   "execution_count": 8,
   "metadata": {},
   "outputs": [],
   "source": [
    "import torch"
   ]
  },
  {
   "cell_type": "code",
   "execution_count": 12,
   "metadata": {},
   "outputs": [],
   "source": [
    "x = torch.nn.Sigmoid()"
   ]
  },
  {
   "cell_type": "code",
   "execution_count": 14,
   "metadata": {},
   "outputs": [
    {
     "data": {
      "text/plain": [
       "(tensor(0.6750), tensor(0.7311))"
      ]
     },
     "execution_count": 14,
     "metadata": {},
     "output_type": "execute_result"
    }
   ],
   "source": [
    "x(x(torch.tensor(1))), x(torch.tensor(1))"
   ]
  },
  {
   "cell_type": "code",
   "execution_count": 2,
   "metadata": {
    "scrolled": true
   },
   "outputs": [],
   "source": [
    "import os\n",
    "import shutil\n",
    "import matplotlib.pyplot as plt\n",
    "\n",
    "%matplotlib inline\n",
    "\n"
   ]
  },
  {
   "cell_type": "code",
   "execution_count": null,
   "metadata": {
    "scrolled": true
   },
   "outputs": [],
   "source": [
    "path = '/media\\data1\\FaceForensics_Dec2020\\Few-Shot_GAN\\data\\same_size'\n",
    "path =path.replace('\\\\','/')\n",
    "\n",
    "for i in os.listdir(path):\n",
    "#     print(i)\n",
    "    iden = i[2:]\n",
    "#     print(iden)\n",
    "    p2 = os.path.join(path,i+'/'+iden)\n",
    "#     print(p2)\n",
    "    cnt=1\n",
    "    plt.figure(figsize=(10,10))\n",
    "    for j in os.listdir(p2)[:30]:\n",
    "        plt.subplot(3,10,cnt)\n",
    "        plt.axis('off')\n",
    "        cnt+=1\n",
    "        x = plt.imread(os.path.join(p2,j))\n",
    "        plt.imshow(x)\n",
    "    \n",
    "    plt.show()\n",
    "    while True:\n",
    "        s=input()\n",
    "        if s=='d':\n",
    "            remove_dir(os.path.join(path,i))\n",
    "        break"
   ]
  },
  {
   "cell_type": "code",
   "execution_count": null,
   "metadata": {},
   "outputs": [],
   "source": [
    "def remove_dir(x):\n",
    "    shutil.rmtree(x)"
   ]
  },
  {
   "cell_type": "code",
   "execution_count": 3,
   "metadata": {},
   "outputs": [],
   "source": [
    "path = '/media/data2/rjsdn/zoom/dataset/compression/test6/fake'"
   ]
  },
  {
   "cell_type": "code",
   "execution_count": 5,
   "metadata": {},
   "outputs": [
    {
     "name": "stdout",
     "output_type": "stream",
     "text": [
      "('/media/data2/rjsdn/zoom/dataset/compression/test6/fake', ['090', '085', '091', '086', '066', '059', '077', '088', '052', '051', '087', '079', '053', '060', '063', '056', '055', '064', '070', '072', '074', '068', '092', '062', '080', '061', '096', '082', '057', '065', '097', '069', '083', '076', '089', '067', '095', '098', '058', '100', '099', '081', '054', '073', '075', '084', '071', '078', '093', '094'], [])\n",
      "0\n",
      "('/media/data2/rjsdn/zoom/dataset/compression/test6/fake/072', [], ['018.jpg', '021.jpg', '005.jpg', '004.jpg', '002.jpg', '022.jpg', '009.jpg', '025.jpg', '006.jpg', '011.jpg', '019.jpg', '014.jpg', '027.jpg', '001.jpg', '024.jpg', '012.jpg', '029.jpg', '008.jpg', '028.jpg', '020.jpg', '023.jpg', '016.jpg', '017.jpg', '003.jpg', '032.jpg', '015.jpg', '031.jpg', '013.jpg', '026.jpg', '033.jpg', '030.jpg', '007.jpg', '010.jpg'])\n",
      "33\n"
     ]
    }
   ],
   "source": [
    "for x in os.walk(path):\n",
    "    if len(x[2])!=40:\n",
    "        print(x)\n",
    "        print(len(x[2]))"
   ]
  },
  {
   "cell_type": "code",
   "execution_count": null,
   "metadata": {},
   "outputs": [],
   "source": []
  }
 ],
 "metadata": {
  "kernelspec": {
   "display_name": "Python 3 (ipykernel)",
   "language": "python",
   "name": "python3"
  },
  "language_info": {
   "codemirror_mode": {
    "name": "ipython",
    "version": 3
   },
   "file_extension": ".py",
   "mimetype": "text/x-python",
   "name": "python",
   "nbconvert_exporter": "python",
   "pygments_lexer": "ipython3",
   "version": "3.7.11"
  }
 },
 "nbformat": 4,
 "nbformat_minor": 4
}
