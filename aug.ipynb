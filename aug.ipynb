{
 "cells": [
  {
   "cell_type": "code",
   "execution_count": 2,
   "id": "536a6d64",
   "metadata": {},
   "outputs": [],
   "source": [
    "import cv2\n",
    "import albumentations as A\n",
    "import torch\n",
    "import torchvision\n",
    "import torchvision.transforms as T\n",
    "from torch.utils.data import DataLoader, Dataset\n",
    "from glob import *\n",
    "import os\n",
    "import random\n",
    "import numpy as np"
   ]
  },
  {
   "cell_type": "code",
   "execution_count": 79,
   "id": "50ba0ed6",
   "metadata": {},
   "outputs": [],
   "source": [
    "path ='/media/data2/rjsdn/zoom/t_100_split/'"
   ]
  },
  {
   "cell_type": "code",
   "execution_count": 80,
   "id": "89098b53",
   "metadata": {},
   "outputs": [],
   "source": [
    "# imgs = [y for y in glob(os.path.join(x[0],'*.jpg')) for x in os.walk(path)]\n",
    "imgs = [y for x in os.walk(path) for y in sorted(glob(os.path.join(x[0],'*.jpg'))+glob(os.path.join(x[0],'*.png')))]"
   ]
  },
  {
   "cell_type": "code",
   "execution_count": 5,
   "id": "c58ec9da",
   "metadata": {},
   "outputs": [],
   "source": [
    "transform = T.Compose([\n",
    "    T.ToPILImage(),\n",
    "    T.GaussianBlur(3),\n",
    "    T.RandomHorizontalFlip(p=1),\n",
    "    T.ColorJitter(brightness=[1.5,1.5])\n",
    "])"
   ]
  },
  {
   "cell_type": "code",
   "execution_count": 6,
   "id": "50f2895b",
   "metadata": {},
   "outputs": [],
   "source": [
    "num=100"
   ]
  },
  {
   "cell_type": "code",
   "execution_count": 7,
   "id": "0f35b5e3",
   "metadata": {},
   "outputs": [],
   "source": [
    "fake_dir=['fake/'+x for x in os.listdir(path+'fake')]\n",
    "real_dir=['real/'+x for x in os.listdir(path+'real')]"
   ]
  },
  {
   "cell_type": "code",
   "execution_count": 7,
   "id": "d192ab90",
   "metadata": {},
   "outputs": [],
   "source": [
    "# random.shuffle(fake_dir)\n",
    "# random.shuffle(real_dir)"
   ]
  },
  {
   "cell_type": "markdown",
   "id": "c0cc6346",
   "metadata": {},
   "source": [
    "# Fake"
   ]
  },
  {
   "cell_type": "code",
   "execution_count": 10,
   "id": "bededafa",
   "metadata": {
    "scrolled": true
   },
   "outputs": [],
   "source": [
    "for x in fake_dir[:num]:\n",
    "    mid_path = os.path.join(path,x)\n",
    "    b_val = np.random.choice([1,-1],1).item()*random.randrange(1,7)/10 + 1\n",
    "    for y in os.listdir(mid_path):\n",
    "        \n",
    "        y = mid_path +'/'+ y\n",
    "        img = cv2.imread(y)\n",
    "        img = cv2.cvtColor(img,cv2.COLOR_BGR2RGB)\n",
    "        \n",
    "        transform = T.Compose([\n",
    "            T.ToPILImage(),\n",
    "            T.GaussianBlur(7),\n",
    "            T.RandomHorizontalFlip(p=1),\n",
    "            T.ColorJitter(brightness=[b_val,b_val])\n",
    "        ])\n",
    "        \n",
    "        sp = y.split('/')\n",
    "        sp[-4]='train_100_aug'\n",
    "        save_dir = '/'.join(sp[:-1])\n",
    "        \n",
    "        os.makedirs(save_dir,exist_ok=True)\n",
    "        \n",
    "        save = '/'.join(sp)\n",
    "        \n",
    "        img = transform(img)\n",
    "        img.save(save,'jpeg')\n",
    "        \n",
    "        "
   ]
  },
  {
   "cell_type": "markdown",
   "id": "27abf241",
   "metadata": {},
   "source": [
    "# Real"
   ]
  },
  {
   "cell_type": "code",
   "execution_count": 8,
   "id": "02314aa0",
   "metadata": {},
   "outputs": [],
   "source": [
    "for x in real_dir[:num]:\n",
    "    mid_path = os.path.join(path,x)\n",
    "    b_val = np.random.choice([1,-1],1).item()*random.randrange(1,7)/10 + 1\n",
    "\n",
    "    for y in os.listdir(mid_path):\n",
    "        \n",
    "        y = mid_path +'/'+ y\n",
    "        img = cv2.imread(y)\n",
    "        img = cv2.cvtColor(img,cv2.COLOR_BGR2RGB)\n",
    "        \n",
    "        transform = T.Compose([\n",
    "            T.ToPILImage(),\n",
    "            T.GaussianBlur(7),\n",
    "            T.RandomHorizontalFlip(p=1),\n",
    "            T.ColorJitter(brightness=[b_val,b_val])\n",
    "        ])\n",
    "        \n",
    "        sp = y.split('/')\n",
    "        sp[-4]='train_100_aug'\n",
    "        save_dir = '/'.join(sp[:-1])\n",
    "        \n",
    "        os.makedirs(save_dir,exist_ok=True)\n",
    "        \n",
    "        save = '/'.join(sp)\n",
    "        \n",
    "        img = transform(img)\n",
    "        img.save(save,'jpeg')\n",
    "        \n",
    "        "
   ]
  },
  {
   "cell_type": "markdown",
   "id": "bb69ee41",
   "metadata": {},
   "source": [
    "# TEST"
   ]
  },
  {
   "cell_type": "code",
   "execution_count": 17,
   "id": "ca337534",
   "metadata": {},
   "outputs": [],
   "source": [
    "fpath ='/media/data2/rjsdn/zoom/dataset/train_100/fake/'\n",
    "for x in os.listdir(fpath):\n",
    "    save = x[:-8]\n",
    "    p1 = os.path.join(fpath,save)\n",
    "    p2 = os.path.join(fpath,x)\n",
    "    os.rename(p2,p1)"
   ]
  },
  {
   "cell_type": "code",
   "execution_count": 14,
   "id": "f8387651",
   "metadata": {},
   "outputs": [
    {
     "data": {
      "text/plain": [
       "('/media/data2/rjsdn/zoom/dataset/train_100/fake/00016_aug_aug',\n",
       " '/media/data2/rjsdn/zoom/dataset/train_100/fake/00016_aug')"
      ]
     },
     "execution_count": 14,
     "metadata": {},
     "output_type": "execute_result"
    }
   ],
   "source": [
    "p1,p2"
   ]
  },
  {
   "cell_type": "markdown",
   "id": "0d432928",
   "metadata": {},
   "source": [
    "# Compression"
   ]
  },
  {
   "cell_type": "code",
   "execution_count": 81,
   "id": "63b2e624",
   "metadata": {},
   "outputs": [],
   "source": [
    "import matplotlib.pyplot as plt"
   ]
  },
  {
   "cell_type": "code",
   "execution_count": 82,
   "id": "ff776d09",
   "metadata": {},
   "outputs": [],
   "source": [
    "tf = A.Compose([\n",
    "    A.ImageCompression(10,10,always_apply=True)\n",
    "])"
   ]
  },
  {
   "cell_type": "code",
   "execution_count": 83,
   "id": "95d3f7fe",
   "metadata": {},
   "outputs": [
    {
     "data": {
      "text/plain": [
       "<matplotlib.image.AxesImage at 0x7f56c3f7a850>"
      ]
     },
     "execution_count": 83,
     "metadata": {},
     "output_type": "execute_result"
    },
    {
     "data": {
      "image/png": "[encoded data removed]",
      "text/plain": [
       "<Figure size 432x288 with 1 Axes>"
      ]
     },
     "metadata": {
      "needs_background": "light"
     },
     "output_type": "display_data"
    }
   ],
   "source": [
    "x = cv2.imread(imgs[0])\n",
    "x = cv2.cvtColor(x,cv2.COLOR_BGR2RGB)\n",
    "x = tf(image=x)['image']\n",
    "plt.imshow(x)"
   ]
  },
  {
   "cell_type": "code",
   "execution_count": null,
   "id": "f0414dac",
   "metadata": {},
   "outputs": [],
   "source": []
  },
  {
   "cell_type": "code",
   "execution_count": 88,
   "id": "11897d9b",
   "metadata": {},
   "outputs": [
    {
     "data": {
      "text/plain": [
       "'/media/data2/rjsdn/zoom/t_100_split/t_100_comp/031/106.jpg'"
      ]
     },
     "execution_count": 88,
     "metadata": {},
     "output_type": "execute_result"
    }
   ],
   "source": [
    "save"
   ]
  },
  {
   "cell_type": "code",
   "execution_count": 92,
   "id": "cfb4ada7",
   "metadata": {},
   "outputs": [],
   "source": [
    "for i in range(1,2):\n",
    "    path =f'/media/data2/rjsdn/zoom/dataset/train6/'\n",
    "    imgs = [y for x in os.walk(path) for y in sorted(glob(os.path.join(x[0],'*.jpg'))+glob(os.path.join(x[0],'*.png')))]\n",
    "    for x in imgs:\n",
    "        img = cv2.imread(x)\n",
    "        img = tf(image=img)['image']\n",
    "\n",
    "        save = x.split('/')\n",
    "#         print(save)\n",
    "#         save[-3]='t_100_comp'\n",
    "        save.insert(-4,'compression')\n",
    "        os.makedirs('/'.join(save[:-1]),exist_ok=True)\n",
    "        save = '/'.join(save)\n",
    "#         break\n",
    "        cv2.imwrite(save,img)"
   ]
  },
  {
   "cell_type": "code",
   "execution_count": 93,
   "id": "6ce2e0bd",
   "metadata": {},
   "outputs": [],
   "source": [
    "for i in range(1,2):\n",
    "    path =f'/media/data2/rjsdn/zoom/dataset/test6/'\n",
    "    imgs = [y for x in os.walk(path) for y in sorted(glob(os.path.join(x[0],'*.jpg'))+glob(os.path.join(x[0],'*.png')))]\n",
    "    for x in imgs:\n",
    "        img = cv2.imread(x)\n",
    "        img = tf(image=img)['image']\n",
    "\n",
    "        save = x.split('/')\n",
    "        save.insert(-4,'compression')\n",
    "        os.makedirs('/'.join(save[:-1]),exist_ok=True)\n",
    "        save = '/'.join(save)\n",
    "\n",
    "        cv2.imwrite(save,img)"
   ]
  },
  {
   "cell_type": "code",
   "execution_count": 77,
   "id": "77442d3c",
   "metadata": {},
   "outputs": [],
   "source": [
    "for i in range(1,6):\n",
    "    path =f'/media/data2/rjsdn/zoom/dataset/train{i}/'\n",
    "    imgs = [y for x in os.walk(path) for y in sorted(glob(os.path.join(x[0],'*.jpg'))+glob(os.path.join(x[0],'*.png')))]\n",
    "    for x in imgs:\n",
    "        img = cv2.imread(x)\n",
    "        img = tf(image=img)['image']\n",
    "\n",
    "        save = x.split('/')\n",
    "        save.insert(-4,'compression')\n",
    "        os.makedirs('/'.join(save[:-1]),exist_ok=True)\n",
    "        save = '/'.join(save)\n",
    "\n",
    "        cv2.imwrite(save,img)"
   ]
  },
  {
   "cell_type": "code",
   "execution_count": 78,
   "id": "20f4ff35",
   "metadata": {},
   "outputs": [],
   "source": [
    "for i in range(1,2):\n",
    "    path =f'/media/data2/rjsdn/zoom/dataset/val/'\n",
    "    imgs = [y for x in os.walk(path) for y in sorted(glob(os.path.join(x[0],'*.jpg'))+glob(os.path.join(x[0],'*.png')))]\n",
    "    for x in imgs:\n",
    "        img = cv2.imread(x)\n",
    "        img = tf(image=img)['image']\n",
    "\n",
    "        save = x.split('/')\n",
    "        save.insert(-4,'compression')\n",
    "        os.makedirs('/'.join(save[:-1]),exist_ok=True)\n",
    "        save = '/'.join(save)\n",
    "\n",
    "        cv2.imwrite(save,img)"
   ]
  }
 ],
 "metadata": {
  "kernelspec": {
   "display_name": "Python 3 (ipykernel)",
   "language": "python",
   "name": "python3"
  },
  "language_info": {
   "codemirror_mode": {
    "name": "ipython",
    "version": 3
   },
   "file_extension": ".py",
   "mimetype": "text/x-python",
   "name": "python",
   "nbconvert_exporter": "python",
   "pygments_lexer": "ipython3",
   "version": "3.7.11"
  }
 },
 "nbformat": 4,
 "nbformat_minor": 5
}
